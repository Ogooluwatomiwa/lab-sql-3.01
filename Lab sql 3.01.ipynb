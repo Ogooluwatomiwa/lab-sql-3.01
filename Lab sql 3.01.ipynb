{
 "cells": [
  {
   "cell_type": "code",
   "execution_count": 10,
   "id": "dbe5df42",
   "metadata": {},
   "outputs": [
    {
     "name": "stdout",
     "output_type": "stream",
     "text": [
      "········\n"
     ]
    }
   ],
   "source": [
    "import pymysql\n",
    "from sqlalchemy import create_engine\n",
    "import pandas as pd\n",
    "import getpass  \n",
    "password = getpass.getpass()"
   ]
  },
  {
   "cell_type": "code",
   "execution_count": 13,
   "id": "a791d3ef",
   "metadata": {},
   "outputs": [],
   "source": [
    "connection_string = 'mysql+pymysql://root:' + password + '@localhost/sakila'\n",
    "engine = create_engine(connection_string)\n",
    "\n",
    "query = '''ALTER TABLE sakila.staff \n",
    "DROP COLUMN picture;'''\n",
    "\n",
    "data = pd.read_sql_query(query, engine)\n",
    "data\n"
   ]
  },
  {
   "cell_type": "code",
   "execution_count": 24,
   "id": "2d5cf6bd",
   "metadata": {},
   "outputs": [],
   "source": [
    "query = \"\"\"INSERT INTO sakila.staff(first_name,last_name,address_id, email, store_id, username)\n",
    "VALUES ('TAMMY', 'SANDERS',1, 'TAMMY.SANDERS@sakilastaff.com', 1, 'TAMMY');\"\"\"\n",
    "\n",
    "data = pd.read_sql_query(query, engine)\n",
    "data"
   ]
  },
  {
   "cell_type": "code",
   "execution_count": 23,
   "id": "aa2a9590",
   "metadata": {},
   "outputs": [],
   "source": [
    "query = \"\"\"INSERT INTO sakila.rental(rental_date, inventory_id, customer_id,staff_id)\n",
    "VALUES\n",
    "('2022-01-31 00:00:00',4,130,1);\"\"\"\n",
    "\n",
    "data = pd.read_sql_query(query, engine)\n",
    "data\n"
   ]
  },
  {
   "cell_type": "code",
   "execution_count": null,
   "id": "c606f511",
   "metadata": {},
   "outputs": [],
   "source": []
  },
  {
   "cell_type": "code",
   "execution_count": null,
   "id": "1c54c26c",
   "metadata": {},
   "outputs": [],
   "source": []
  }
 ],
 "metadata": {
  "kernelspec": {
   "display_name": "Python 3 (ipykernel)",
   "language": "python",
   "name": "python3"
  },
  "language_info": {
   "codemirror_mode": {
    "name": "ipython",
    "version": 3
   },
   "file_extension": ".py",
   "mimetype": "text/x-python",
   "name": "python",
   "nbconvert_exporter": "python",
   "pygments_lexer": "ipython3",
   "version": "3.9.7"
  }
 },
 "nbformat": 4,
 "nbformat_minor": 5
}
